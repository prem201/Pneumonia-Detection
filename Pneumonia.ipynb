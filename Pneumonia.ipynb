{
  "nbformat": 4,
  "nbformat_minor": 0,
  "metadata": {
    "colab": {
      "provenance": []
    },
    "kernelspec": {
      "name": "python3",
      "display_name": "Python 3"
    },
    "language_info": {
      "name": "python"
    }
  },
  "cells": [
    {
      "cell_type": "markdown",
      "source": [
        "Dataset link\n",
        "https://www.kaggle.com/datasets/paultimothymooney/chest-xray-pneumonia"
      ],
      "metadata": {
        "id": "TSmU1KqMxO2B"
      }
    },
    {
      "cell_type": "markdown",
      "source": [
        "Model"
      ],
      "metadata": {
        "id": "07tTKO5fw7pH"
      }
    },
    {
      "cell_type": "code",
      "source": [
        "from keras.models import Model\n",
        "from keras.layers import Flatten,Dense\n",
        "from keras.applications.vgg16 import VGG16\n",
        "import matplotlib.pyplot as plot\n",
        "from keras.callbacks import EarlyStopping\n",
        "from glob import glob\n",
        "IMAGESHAPE = [224, 224, 3]\n",
        "training_data = '/content/train'\n",
        "testing_data = '/content/test'\n",
        "vgg_model = VGG16(input_shape=IMAGESHAPE, weights='imagenet', include_top=False)\n",
        "for each_layer in vgg_model.layers:\n",
        " each_layer.trainable = False\n",
        "classes = glob('/content/train/*')\n",
        "flatten_layer = Flatten()(vgg_model.output)\n",
        "prediction = Dense(len(classes), activation='softmax')(flatten_layer)\n",
        "final_model = Model(inputs=vgg_model.input, outputs=prediction)\n",
        "final_model.summary()\n",
        "final_model.compile(\n",
        " loss='categorical_crossentropy',\n",
        " optimizer='adam',\n",
        " metrics=['accuracy']\n",
        ")\n",
        "from keras.preprocessing.image import ImageDataGenerator\n",
        "train_datagen = ImageDataGenerator(rescale = 1./255,\n",
        " shear_range = 0.2,\n",
        " zoom_range = 0.2,\n",
        " horizontal_flip = True)\n",
        "testing_datagen = ImageDataGenerator(rescale =1. / 255)\n",
        "training_set = train_datagen.flow_from_directory('/content/train',\n",
        " target_size = (224, 224),\n",
        " batch_size = 32,\n",
        " class_mode = 'categorical')\n",
        "test_set = testing_datagen.flow_from_directory('/content/test',\n",
        " target_size = (224, 224),\n",
        " batch_size = 32,\n",
        " class_mode = 'categorical')\n",
        "early_stopping = EarlyStopping(monitor='val_loss', patience=5, restore_best_weights=True)\n",
        "fitted_model = final_model.fit(\n",
        " training_set,\n",
        " validation_data=test_set,\n",
        " epochs=30,\n",
        " steps_per_epoch=len(training_set),\n",
        " validation_steps=len(test_set),\n",
        " callbacks=[early_stopping]\n",
        ")\n",
        "plot.plot(fitted_model.history['loss'], label='training loss')\n",
        "plot.plot(fitted_model.history['val_loss'], label='validation loss')\n",
        "plot.legend()\n",
        "plot.show()\n",
        "plot.savefig('LossVal_loss')\n",
        "plot.plot(fitted_model.history['accuracy'], label='training accuracy')\n",
        "plot.plot(fitted_model.history['val_accuracy'], label='validation accuracy')\n",
        "plot.legend()\n",
        "plot.show()\n",
        "plot.savefig('AccVal_acc')\n",
        "final_model.save('Mini.h5')"
      ],
      "metadata": {
        "id": "Q9bJ0UrSw-NJ"
      },
      "execution_count": null,
      "outputs": []
    },
    {
      "cell_type": "markdown",
      "source": [
        "Implementation"
      ],
      "metadata": {
        "id": "__WTPX69xDU7"
      }
    },
    {
      "cell_type": "code",
      "source": [
        "import gradio as gr\n",
        "from keras_preprocessing import image\n",
        "from keras.models import load_model\n",
        "from keras.applications.vgg16 import preprocess_input\n",
        "import numpy as np\n",
        "model = load_model('Mini.h5')\n",
        "def preprocess_image(img):\n",
        " img = img.resize((224, 224))\n",
        " img_array = image.img_to_array(img)\n",
        " img_array = np.expand_dims(img_array, axis=0)\n",
        " img_data = preprocess_input(img_array)\n",
        " return img_data\n",
        "def predict_pneumonia(img):\n",
        " img_data = preprocess_image(img)\n",
        " pneumonia_prediction = model.predict(img_data)\n",
        " if pneumonia_prediction[0][0] > pneumonia_prediction[0][1]:\n",
        " result = \"Person is safe.\"\n",
        " else:\n",
        " result = \"Person is affected with Pneumonia.\"\n",
        " return result\n",
        "iface = gr.Interface(\n",
        " fn=predict_pneumonia,\n",
        " inputs=gr.Image(type='pil', label=\"Upload a chest X-ray image\"),\n",
        " outputs=gr.Textbox(type='text',label='Result')\n",
        ")\n",
        "iface.launch()"
      ],
      "metadata": {
        "id": "cumEFM4sxE86"
      },
      "execution_count": null,
      "outputs": []
    }
  ]
}